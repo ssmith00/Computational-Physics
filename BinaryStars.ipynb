{
 "cells": [
  {
   "cell_type": "code",
   "execution_count": 4,
   "metadata": {},
   "outputs": [],
   "source": [
    "G = 1.18312*(10**-4) #G in dimensions of AU, earth masses, and years."
   ]
  },
  {
   "cell_type": "code",
   "execution_count": 5,
   "metadata": {},
   "outputs": [],
   "source": [
    "import numpy as np\n",
    "import matplotlib.pyplot as plt\n",
    "\n",
    "class planet:\n",
    "    def __init__(self, name, M, T, sma, R, xo,yo):\n",
    "        self.name = name\n",
    "        self.M = M\n",
    "        self.T = T\n",
    "        self.sma = sma\n",
    "        self.R = R\n",
    "        self.xo = xo\n",
    "        self.yo = yo\n",
    "   "
   ]
  },
  {
   "cell_type": "code",
   "execution_count": 6,
   "metadata": {},
   "outputs": [],
   "source": [
    "mer = planet(\"Mercury\", 0.05528, 0.2411, 0.3871, (4.09*(10**-19)), 0.32622, 0.2084)\n",
    "ven = planet(\"Venus\", 0.8157, 0.6156, 0.7233, (1.01*(10**-18)), -0.0151,0.7231)\n",
    "ear = planet(\"Earth\",1,1,1,(1.07*(10**-18)),1,0)\n",
    "mar = planet(\"Mars\",0.1075,1.882,1.527,(5.68*(10**-19)),-0.2497,-1.507)\n",
    "jup = planet(\"Jupiter\",318.3,11.86,5.202,(1.17*(10**-17)),2.085,4.767)\n",
    "sat = planet(\"Saturn\",95.14,29.45,9.539,(9.75*(10**-18)),-1.232,9.459)\n",
    "ura = planet(\"Uranus\",14.54,84.02,19.19,(4.25*(10**-18)),-17.26,-8.383)\n",
    "nep = planet(\"Neptune\",17.09,164.8,30.06,(4.12*(10**-18)),-28.14,10.58)"
   ]
  },
  {
   "cell_type": "code",
   "execution_count": 7,
   "metadata": {},
   "outputs": [],
   "source": [
    "def sympmotion(n):\n",
    "    x = np.array([])\n",
    "    v = np.array([])\n",
    "    step = np.linspace(0,1,n)\n",
    "    h = 10**(-2)\n",
    "    for i in range(n):\n",
    "        if i == 0:\n",
    "            x = np.append(x, [0])\n",
    "            v = np.append(v, [1])\n",
    "        else:\n",
    "            x = np.append(x, [x[i-1] + v[i-1]*h])\n",
    "            v = np.append(v, [v[i-1] - x[i]*h])\n",
    "            \n",
    "    \n",
    "    xplt = plt.plot(x,v)\n",
    "    \n",
    "    print(xplt)"
   ]
  },
  {
   "cell_type": "code",
   "execution_count": 14,
   "metadata": {},
   "outputs": [],
   "source": [
    "def binarystars(m1,m2, v1xo,v1yo,v2xo,v2yo, x1o,y1o,x2o,y2o, t):\n",
    "    x1 = np.zeros(t)\n",
    "    y1 = np.zeros(t)\n",
    "    x2 = np.zeros(t)\n",
    "    y2 = np.zeros(t)\n",
    "    \n",
    "    v1x = np.zeros(t)\n",
    "    v1y = np.zeros(t)\n",
    "    v2x = np.zeros(t)\n",
    "    v2y = np.zeros(t)\n",
    "    \n",
    "    a1 = np.zeros(t)\n",
    "    a2 = np.zeros(t)\n",
    "    \n",
    "    a1x = np.zeros(t)\n",
    "    a1y = np.zeros(t)\n",
    "    a2x = np.zeros(t)\n",
    "    a2y = np.zeros(t)\n",
    "    \n",
    "    deltar = np.zeros(t)\n",
    "    \n",
    "    \n",
    "    #step = np.linspace(0,1,t)\n",
    "    h = 10**(-5)\n",
    "    for i in range(t):\n",
    "        if i == 0:\n",
    "            #positions\n",
    "            x1[0] =  x1o\n",
    "            y1[0] =  y1o\n",
    "            x2[0] =  x2o\n",
    "            y2[0] =  y2o\n",
    "            #velocities\n",
    "            v1x[0] = v1xo\n",
    "            v1y[0] = v1yo\n",
    "            v2x[0] = v2xo\n",
    "            v2y[0] = v2yo\n",
    "        else:\n",
    "            \n",
    "            deltar[i] = ((x2[i-1]-x1[i-1])**2+(y2[i-1]-y1[i-1])**2)**(1/2)\n",
    "            \n",
    "            a1[i] = (-1*G*m2)/((deltar[i])**2)\n",
    "            a2[i] = (-1*G*m1)/((deltar[i])**2)\n",
    "            \n",
    "            a1x[i] = (a1[i]*x1[i-1])/((x1[i-1]**2 + y1[i-1]**2)**(1/2))                   \n",
    "            a1y[i] = (a1[i]*y1[i-1])/((x1[i-1]**2 + y1[i-1]**2)**(1/2))\n",
    "                                 \n",
    "            \n",
    "            a2x[i] = (a2[i]*x2[i-1])/((x2[i-1]**2 + y2[i-1]**2)**(1/2))                    \n",
    "            a2y[i] = (a2[i]*y2[i-1])/((x2[i-1]**2 + y2[i-1]**2)**(1/2))\n",
    "                                 \n",
    "            \n",
    "            x1[i] =  x1[i-1] + v1x[i-1]*h\n",
    "            y1[i] =  y1[i-1] + v1y[i-1]*h\n",
    "            x2[i] =  x2[i-1] + v2x[i-1]*h\n",
    "            y2[i] =  y2[i-1] + v2y[i-1]*h\n",
    "        \n",
    "            v1x[i] = v1x[i-1] + a1x[i]*h\n",
    "            v1y[i] = v1y[i-1] + a1y[i]*h\n",
    "            v2x[i] = v2x[i-1] + a2x[i]*h\n",
    "            v2y[i] = v2y[i-1] + a2y[i]*h\n",
    "    #return(a1x[t-1],a1y[t-1],a2x[t-1],a2y[t-1],deltar[i-1],(deltar[i])**2 * (x1[i-1]**2 + y1[i-1]**2)**(1/2))  \n",
    "            #if i == 25000:\n",
    "             #   print(x[i],y[i],vx[i],vy[i])\n",
    "            \n",
    "    fig, ax = plt.subplots()\n",
    "    ax.plot(x1,y1)\n",
    "    ax.plot(x2,y2)\n",
    "    ax.scatter(0,0, color='black')\n",
    "    ax.set_xlim(-2,2)\n",
    "    ax.set_ylim(-2,2)\n",
    "    plt.axis('equal')\n",
    "   \n",
    "    print(ax)"
   ]
  },
  {
   "cell_type": "code",
   "execution_count": 15,
   "metadata": {},
   "outputs": [
    {
     "name": "stdout",
     "output_type": "stream",
     "text": [
      "AxesSubplot(0.125,0.125;0.775x0.755)\n"
     ]
    },
    {
     "data": {
      "image/png": "[encoded data removed]",
      "text/plain": [
       "<Figure size 432x288 with 1 Axes>"
      ]
     },
     "metadata": {},
     "output_type": "display_data"
    }
   ],
   "source": [
    "binarystars(100000,200000,  0,2,   0,-1,   1,0,  -1/2,0, 190000)"
   ]
  },
  {
   "cell_type": "code",
   "execution_count": 473,
   "metadata": {},
   "outputs": [],
   "source": [
    "#replace np.appends with zeros\n",
    "\n",
    "def anabinarystars(m1,m2, v1xo,v1yo,v2xo,v2yo, x1o,y1o,x2o,y2o, t):\n",
    "    x1 = np.zeros(t)\n",
    "    y1 = np.zeros(t)\n",
    "    x2 = np.zeros(t)\n",
    "    y2 = np.zeros(t)\n",
    "    \n",
    "    v1x = np.zeros(t)\n",
    "    v1y = np.zeros(t)\n",
    "    v2x = np.zeros(t)\n",
    "    v2y = np.zeros(t)\n",
    "    \n",
    "    a1 = np.zeros(t)\n",
    "    a2 = np.zeros(t)\n",
    "    \n",
    "    a1x = np.zeros(t)\n",
    "    a1y = np.zeros(t)\n",
    "    a2x = np.zeros(t)\n",
    "    a2y = np.zeros(t)\n",
    "    \n",
    "    r1 = np.zeros(t)\n",
    "    r2 = np.zeros(t)\n",
    "    \n",
    "    #step = np.linspace(0,1,t)\n",
    "    h = 10**(-5.21)\n",
    "    for i in range(t):\n",
    "        if i == 0:\n",
    "            #positions\n",
    "            x1[0] =  x1o\n",
    "            y1[0] =  y1o\n",
    "            x2[0] =  x2o\n",
    "            y2[0] =  y2o\n",
    "            #velocities\n",
    "            v1x[0] = v1xo\n",
    "            v1y[0] = v1yo\n",
    "            v2x[0] = v2xo\n",
    "            v2y[0] = v2yo\n",
    "            #accelerations\n",
    "            \n",
    "        else:\n",
    "            #print(x1,y1)\n",
    "            r1[i] = (x1[i-1]**2 + y1[i-1]**2)**(1/2)\n",
    "            r2[i] = (x2[i-1]**2 + y2[i-1]**2)**(1/2)\n",
    "            \n",
    "            a1[i] = (G*(m2**3))/((r1[i]**2)*((m1+m2)**2))\n",
    "            a2[i] = (G*(m1**3))/((r2[i]**2)*((m1+m2)**2))\n",
    "            \n",
    "            a1x[i] = -a1[i]*(x1[i-1]/((x1[i-1]**2 + y1[i-1]**2)**(1/2)))\n",
    "            a1y[i] = -a1[i]*(y1[i-1]/((x1[i-1]**2 + y1[i-1]**2)**(1/2)))\n",
    "            \n",
    "            a2x[i] = -a2[i]*(x2[i-1]/((x2[i-1]**2 + y2[i-1]**2)**(1/2)))\n",
    "            a2y[i] = -a2[i]*(y2[i-1]/((x2[i-1]**2 + y2[i-1]**2)**(1/2)))\n",
    "            \n",
    "            x1[i] =  x1[i-1] + v1x[i-1]*h\n",
    "            y1[i] =  y1[i-1] + v1y[i-1]*h\n",
    "            x2[i] =  x2[i-1] + v2x[i-1]*h\n",
    "            y2[i] =  y2[i-1] + v2y[i-1]*h\n",
    "        \n",
    "            v1x[i] =  v1x[i-1] + a1x[i]*h\n",
    "            v1y[i] =  v1y[i-1] + a1y[i]*h\n",
    "            v2x[i] =  v2x[i-1] + a2x[i]*h\n",
    "            v2y[i] =  v2y[i-1] + a2y[i]*h  \n",
    "            #if i == 25000:\n",
    "             #   print(x[i],y[i],vx[i],vy[i])\n",
    "    #return(v1x[t-1],v1x[t-1],a1x,-a1[i]*(x1[i]/((x1[i-1]**2 + y1[i-1]**2)**(1/2))),x1[t-2])\n",
    "            \n",
    "    fig, ax = plt.subplots()\n",
    "    ax.plot(x1,y1, color='red')\n",
    "    ax.plot(x2,y2)\n",
    "    ax.scatter(0,0, color='black')\n",
    "    #ax.set_xlim(-2,2)\n",
    "    #ax.set_ylim(-2,2)\n",
    "    plt.axis('equal')\n",
    "   \n",
    "    print(ax)"
   ]
  },
  {
   "cell_type": "code",
   "execution_count": 548,
   "metadata": {},
   "outputs": [
    {
     "name": "stdout",
     "output_type": "stream",
     "text": [
      "AxesSubplot(0.125,0.125;0.775x0.755)\n"
     ]
    },
    {
     "data": {
      "image/png": "[encoded data removed]",
      "text/plain": [
       "<Figure size 432x288 with 1 Axes>"
      ]
     },
     "metadata": {},
     "output_type": "display_data"
    }
   ],
   "source": [
    "anabinarystars(100000,200000,  0,2,   0,-1,   1,0,  -1/2,0, 190000)"
   ]
  },
  {
   "cell_type": "code",
   "execution_count": null,
   "metadata": {},
   "outputs": [],
   "source": []
  },
  {
   "cell_type": "code",
   "execution_count": null,
   "metadata": {},
   "outputs": [],
   "source": []
  }
 ],
 "metadata": {
  "kernelspec": {
   "display_name": "Python 3",
   "language": "python",
   "name": "python3"
  },
  "language_info": {
   "codemirror_mode": {
    "name": "ipython",
    "version": 3
   },
   "file_extension": ".py",
   "mimetype": "text/x-python",
   "name": "python",
   "nbconvert_exporter": "python",
   "pygments_lexer": "ipython3",
   "version": "3.6.5"
  }
 },
 "nbformat": 4,
 "nbformat_minor": 2
}
